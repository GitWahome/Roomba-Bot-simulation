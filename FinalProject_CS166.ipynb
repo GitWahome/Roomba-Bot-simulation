{
 "cells": [
  {
   "cell_type": "markdown",
   "metadata": {
    "colab_type": "text",
    "id": "H30FtGp8yDH_"
   },
   "source": [
    "Import all necessary Packages"
   ]
  },
  {
   "cell_type": "code",
   "execution_count": 1,
   "metadata": {
    "colab": {},
    "colab_type": "code",
    "id": "KPwTaZ4UyBpY"
   },
   "outputs": [],
   "source": [
    "import random\n",
    "from IPython.display import clear_output\n",
    "import time\n",
    "from scipy import array, newaxis\n",
    "import numpy as np\n",
    "import matplotlib.pyplot as plt\n",
    "from matplotlib.pyplot import figure\n",
    "from scipy.interpolate import interp2d\n"
   ]
  },
  {
   "cell_type": "markdown",
   "metadata": {
    "colab_type": "text",
    "id": "PRt4lP_9dMoL"
   },
   "source": [
    "Initiate the character map, specify the tile class and house class."
   ]
  },
  {
   "cell_type": "code",
   "execution_count": 2,
   "metadata": {
    "colab": {},
    "colab_type": "code",
    "id": "Wi76UullXlH1"
   },
   "outputs": [],
   "source": [
    "\n",
    "character_map = {0:\"👍\",1:\"👎\",2:\"💩\",'W':\"💀\", 'bot':\"🤖\"}\n",
    "\n",
    "class tile():\n",
    "  def __init__(self, position, cleanliness=0, wall = False, bot = False):\n",
    "    #Capture the directions to the left, right, bottom and top as per Von Neumann neighbourhoods.\n",
    "    #Capture the cleanliness, positions and also markers for visits and if the bot is on the cell\n",
    "    self.position = position\n",
    "    self.cleanliness = cleanliness\n",
    "    self.right = (position[0],position[1]+1)\n",
    "    self.left = (position[0],position[1]-1)\n",
    "    self.bottom = (position[0]+1,position[1])\n",
    "    self.top = (position[0]-1,position[1])\n",
    "    self.bot = False\n",
    "    self.visit = 0\n",
    "    \n",
    "  \n",
    "class house_c(tile): \n",
    "  def __init__(self, obstacles = 5, dimensions = (15,15), mess = \"Very Dirty\"):\n",
    "    self.dimensions = dimensions\n",
    "    self.house = house = [[0]*dimensions[1] for row in range(dimensions[0])]\n",
    "    self.walls = 3\n",
    "    self.obstacles = obstacles\n",
    "    self.mess = mess\n",
    "  \n",
    "  def add_walls(self):\n",
    "    #To keep things simple, we just add walls on horizontal walls with at most half the room length\n",
    "    half_length = self.dimensions[1]//2\n",
    "    #generate 3 random walls that dont coincide with the house walls so betweeen dimension-1, non inclusive\n",
    "    wall_rows = random.sample(range(2, self.dimensions[1]-1),min(self.obstacles, half_length))\n",
    "    for row in wall_rows:\n",
    "      #Spawn a wall of randomlength between 1 and half_length. We limit walls to a minimum 2 length\n",
    "      wall_length = random.randint(2, half_length)\n",
    "      #Starting position for the wall. It must be before the midroom so any wall fits\n",
    "      start_pos = random.randint(0, self.dimensions[1]//2)\n",
    "      for tile in range(start_pos, start_pos+wall_length):\n",
    "        self.house[row][tile].wall = True\n",
    "        self.house[row][tile].cleanliness = \"W\"\n",
    "    return None    \n",
    "  \n",
    " \n",
    "  #This function spawns a house. By defaultm the house cleanliness is dirty in case the option selected is wrong.\n",
    "  #We populate the tiles with a cleanliness leve as specified by the use.\n",
    "  def spawn_house(self):\n",
    "    clean = 2\n",
    "    for row in range(self.dimensions[1]):\n",
    "      for cell in range(self.dimensions[0]):\n",
    "        #Make the house messy\n",
    "        if self.mess == \"Very Dirty\":\n",
    "          pass\n",
    "        elif self.mess == \"Random\":\n",
    "          clean = random.randint(0,2)\n",
    "        elif self.mess == \"Slightly Clean\":\n",
    "          clean = 1\n",
    "        elif self.mess == \"Clean\":\n",
    "          clean = 0\n",
    "        self.house[cell][row] = tile(position = (cell, row), cleanliness = clean)\n",
    "    self.add_walls()\n",
    "    return self.house\n",
    "  \n",
    "  #A string method to output the house as per the character map.\n",
    "  def __str__(self):\n",
    "    full = []\n",
    "    for row in self.house:\n",
    "      cur_row = []\n",
    "      for tile in row:\n",
    "        if not tile.bot:\n",
    "          cur_row.append(character_map[tile.cleanliness])\n",
    "        else:\n",
    "          cur_row.append(character_map[\"bot\"])\n",
    "      full.append(\"\".join(cur_row))\n",
    "    print(\"########## WELCOME TO MY HOUSE! ###########\")\n",
    "    print(f\"It is {self.mess}\")\n",
    "    print(\"And be careful, the walls have ears, literally.\\n\")\n",
    "    return \"\\n\".join(full)\n",
    "    \n",
    "  \n",
    "\n",
    " "
   ]
  },
  {
   "cell_type": "markdown",
   "metadata": {
    "colab_type": "text",
    "id": "fWwr03X9yz70"
   },
   "source": [
    "This is an initialization of the roomba class. It needs to know the house it is serving. Some utility functions are included to help when programming the bot."
   ]
  },
  {
   "cell_type": "code",
   "execution_count": 3,
   "metadata": {
    "colab": {},
    "colab_type": "code",
    "id": "16rz6rDeRHyt"
   },
   "outputs": [],
   "source": [
    "class roomba():\n",
    "  #Initiate the roomba bot. \n",
    "  #Markers for the strategies like random bounce and wall walking are specified.\n",
    "  def __init__(self, house, wall_walking = True, random_bounce = True, start = (0,0), delay =1,minimum_visits = True):\n",
    "    self.wall_walking = wall_walking\n",
    "    self.random_bounce = random_bounce\n",
    "    self.start = start\n",
    "    self.house = house\n",
    "    self.movement = {\"Right\":(0,1), \"Left\":(0, -1), \"Top\":(-1, 0), \"Bottom\":(1, 0), \"Current\":(0,0)}\n",
    "    self.direction = None\n",
    "    self.delay = delay\n",
    "    self.minimum_visits = minimum_visits\n",
    "    self.count_steps = 0\n",
    "  \n",
    "  #This utility function determines the level of cleanliness of the house. \n",
    "  #A roomba user can determine this then program the roomba to run tiil it feels it\n",
    "  #has collected as much dirt to leave the room in a cleanliness proportion specified.\n",
    "  def check_clean(self):\n",
    "    dirt = 0\n",
    "    for row in self.house.house:\n",
    "      for tile in row:\n",
    "        if tile.cleanliness !=\"W\":\n",
    "          try:\n",
    "            dirt+=int(tile.cleanliness)\n",
    "          except:\n",
    "            pass\n",
    "    return dirt\n",
    "    \n",
    "  #This utility function gets the roomba position and tells it where it can go. \n",
    "  #Depending on activated strategies, it can favor wall crawling or random bouncing or both. \n",
    "  #The situations are discussed in tha paper/\n",
    "  def possible_directions(self, bot_position):\n",
    "    feasible = {\"Current\":bot_position}\n",
    "    neighbor_clean = {\"Current\":self.house.house[bot_position[0]][bot_position[1]].cleanliness}\n",
    "    direction = None\n",
    "    #There are only 4 possible directions\n",
    "    direction_keys = list(self.movement.keys())\n",
    "    \n",
    "    for direction in direction_keys:\n",
    "      next_row = bot_position[0]+self.movement[direction][0]\n",
    "      next_col = bot_position[1]+self.movement[direction][1]\n",
    "      #If the tiles are outside the house span, we will skip them\n",
    "      #Nonetheless, these are our wall markers so we might want to keep track of the wally neighbors so as to follow them\n",
    "      if next_row <0 or next_col <0 or  next_row >=self.house.dimensions[0] or next_col>=self.house.dimensions[1]:\n",
    "        continue\n",
    "      \n",
    "      else:\n",
    "        #If the tiles are withn the span are walls, we will skip them, otherwise we can move to them\n",
    "        #We move at random whether the floor is clean or not but focus will force us to sty if a tile is too dirty\n",
    "        next_tile_cleanliness = self.house.house[next_row][next_col].cleanliness\n",
    "        \n",
    "        if next_tile_cleanliness is not \"W\":\n",
    "          feasible[direction] = (next_row, next_col)\n",
    "          neighbor_clean[direction] = self.house.house[next_row][next_col].cleanliness\n",
    "          \n",
    "    #For efficiency, if there are any neighbors dirty, we will not visit clean neighbors again thus prioritizing dirty spots\n",
    "    if sum(list(neighbor_clean.values()))>0:\n",
    "      #Random bounce tells the system to jump to a random dirty cell if any. Otherwise move in a random direction\n",
    "      if self.random_bounce:\n",
    "        for direction in list(feasible.keys()):\n",
    "          if neighbor_clean[direction] == 0:\n",
    "            del feasible[direction]\n",
    "      \n",
    "      #Atop the clean elimination, if wall following is enabled, we will favor the wall direction if no dirty tile is seen.\n",
    "      priority = []\n",
    "      #Under the same constraint, if wall walkingis enabled, we basicallt prioritize the directions\n",
    "      #That walk the wall in the feasible set and eliminate the others.\n",
    "      #Affinity for dirty preceeds the wall walk either way so if we encounter a dirty cell not on the wall\n",
    "      #and a cleaner one ahead, we will stop the wall walk. This is if\n",
    "      if self.wall_walking:\n",
    "        if len(feasible)>1:\n",
    "          for direction in list(feasible.keys()):\n",
    "            next_row = bot_position[0]+self.movement[direction][0]\n",
    "            next_col = bot_position[1]+self.movement[direction][1]\n",
    "            if direction ==\"Top\" or direction == \"Bottom\":\n",
    "              if bot_position[1]+1>=self.house.dimensions[1] or bot_position[1]-1<0 or self.house.house[bot_position[0]][bot_position[1]+1].cleanliness == 'W' or self.house.house[bot_position[0]][bot_position[1]-1].cleanliness == 'W':\n",
    "                priority.append(direction)\n",
    "            \n",
    "            elif direction == \"Right\" or direction == \"Left\":\n",
    "              if bot_position[0]+1>=self.house.dimensions[0] or  bot_position[0]-1<0 or self.house.house[bot_position[0]+1][bot_position[1]].cleanliness==\"W\" or self.house.house[bot_position[0]-1][bot_position[1]].cleanliness==\"W\":\n",
    "                priority.append(direction)\n",
    "        \n",
    "      #A check to ensure we limit our options to sensible ones. \n",
    "      #The bot behaves randomly when in a clean room since the sum of neighbors cleanlines is 0\n",
    "      #This means they have no dirtiness.  \n",
    "      if len(priority)<len(feasible) and len(priority)>0:\n",
    "        for direction in list(feasible.keys()):\n",
    "          if direction in priority:\n",
    "            continue\n",
    "          else:\n",
    "            del feasible[direction]\n",
    "    return (feasible, neighbor_clean)\n",
    "  \n",
    "  #A utility function to produce a heatmap.\n",
    "  def heatmap(self):\n",
    "      x_list = [x for x in range(self.house.dimensions[1])]\n",
    "      y_list = [y for y in range(self.house.dimensions[0])]\n",
    "      z_list = []\n",
    "      for ys in y_list:\n",
    "        for xs in x_list:\n",
    "          z_list.append(house1.house[xs][ys].visit)\n",
    "\n",
    "      \n",
    "      f = interp2d(x_list,y_list,z_list,kind=\"linear\")\n",
    "\n",
    "      x_coords = np.arange(min(x_list),max(x_list)+1)\n",
    "      y_coords = np.arange(min(y_list),max(y_list)+1)\n",
    "      Z = f(x_coords,y_coords)\n",
    "      figure(num=None, figsize=(10, 10), dpi=80, facecolor='w', edgecolor='k')\n",
    "      fig = plt.imshow(Z,\n",
    "                 extent=[min(x_list),max(x_list),min(y_list),max(y_list)],\n",
    "                 origin=\"lower\")\n",
    "\n",
    "      fig.axes.set_autoscale_on(False)\n",
    "      plt.scatter(x_list,y_list,400,facecolors='none')\n",
    "      plt.gca().invert_yaxis()\n",
    "      plt.show()\n",
    "  \n",
    "  #This function initiates the movement.\n",
    "  #Parameters such as focus tell us if we stick to a dirty cell untill it is clean.\n",
    "  #Clean level is the goal state of how clean we want our house. This gives the bot \n",
    "  #an idea of how much cleaning it will have done till it stops.\n",
    "  #Blink is for when we want an animated version of the bot in action.\n",
    "  #Out_steps is the steps moved before we show the state currently we are in.\n",
    "  #Have a high out_step for big houses to limit the output. \n",
    "  def initiate_traversal(self, focus,fin, clean_level, blink =True, heatmap = True, out_steps=20):\n",
    "    #Check how clean the house is\n",
    "    dirt = self.check_clean()\n",
    "    original = dirt\n",
    "    target_clean = dirt*clean_level\n",
    "    count_steps = 0\n",
    "    #Run till we feel we have collected enough dirt to make the room clean to desired levels.\n",
    "    while target_clean<dirt:\n",
    "      proportion_cleaned = dirt/original\n",
    "      #Get the current bot tile as is\n",
    "      bot_tile = self.house.house[self.start[0]][self.start[1]]\n",
    "      #Put the bot in starting tile\n",
    "      self.house.house[self.start[0]][self.start[1]].bot = True\n",
    "      self.house.house[self.start[0]][self.start[1]].visit +=1\n",
    "      next_data = self.possible_directions(bot_tile.position)\n",
    "      possible_directions = next_data[0]\n",
    "      \n",
    "      #Minimum visits is my proposed third setting.This tells the bot to favor visiting cells it\n",
    "      #Has not visited yet. It especially helps prevent sticking too much in a clean patch.\n",
    "      #If the bot stays in a place for too long, it eventually favors moving away as it detects this.\n",
    "      if self.minimum_visits:\n",
    "        min_vals = list(possible_directions.values())[0]\n",
    "        min_vis = self.house.house[min_vals[0]][min_vals[1]].visit\n",
    "        for direc in list(possible_directions.keys()):\n",
    "          cur_vis = self.house.house[possible_directions[direc][0]][possible_directions[direc][1]].visit\n",
    "          if cur_vis<=min_vis:\n",
    "            direction = direc\n",
    "            min_vis = cur_vis\n",
    "      else:\n",
    "        #Otherwise, we will move in a random direction\n",
    "        direction = random.choice(list(possible_directions.keys()))\n",
    "      if focus:\n",
    "        #Focus is for when we want to clean any dirty patch to completion\n",
    "        if self.house.house[self.start[0]][self.start[1]].cleanliness >0:\n",
    "          direction = \"Current\"\n",
    "          self.house.house[self.start[0]][self.start[1]].visit +=2\n",
    "          \n",
    "      else:\n",
    "        del possible_directions[\"Current\"]\n",
    "      \n",
    "        \n",
    "      #Clean bot tile then move bot in direction specified\n",
    "      self.house.house[self.start[0]][self.start[1]].cleanliness = max((int(bot_tile.cleanliness)-1),0)\n",
    "      #Blink check\n",
    "      if blink:\n",
    "        clear_output()\n",
    "      \n",
    "      #Output checks\n",
    "      if count_steps%out_steps == 0 or proportion_cleaned==0:  \n",
    "        if fin:\n",
    "            print(f\"Proportion Remaining = {proportion_cleaned}\")\n",
    "            print(f\"Possible directions: {possible_directions}\")\n",
    "            print(self.house)\n",
    "      \n",
    "      #Heatmap checks\n",
    "      if heatmap and count_steps%out_steps == 0 or proportion_cleaned==0:\n",
    "        self.heatmap()\n",
    "        print(f\"\\nNext step direction: {direction}\")\n",
    "      self.house.house[self.start[0]][self.start[1]].bot = False\n",
    "      self.start = (self.start[0]+self.movement[direction][0], self.start[1]+self.movement[direction][1])\n",
    "      #A delay that facilitates the blink system\n",
    "      if blink and count_steps%out_steps == 0 or proportion_cleaned==0:\n",
    "        time.sleep(self.delay)\n",
    "      dirt =  self.check_clean()\n",
    "      count_steps+=1\n",
    "    self.count_steps = count_steps\n",
    "  \n",
    "    \n",
    "    \n",
    "    \n",
    "    \n",
    "  #Our parent function that initiates the cleaning and tells us the final state.\n",
    "  def clean(self,clean_level, focus,blink =True, heatmap = True, out_steps=20, fin = True):    \n",
    "      self.initiate_traversal(focus = focus, clean_level = clean_level, blink =blink, heatmap = heatmap,  out_steps=out_steps, fin=fin)\n",
    "      if fin:\n",
    "          print(\"FINAL STATE OF THE HOUSE\")\n",
    "          print(f\"Moves made: {self.count_steps}\")\n",
    "          print(self.house)\n",
    "          self.heatmap()\n",
    "      return self.count_steps\n",
    "      "
   ]
  },
  {
   "cell_type": "markdown",
   "metadata": {},
   "source": [
    "Test Individual Strategies performance"
   ]
  },
  {
   "cell_type": "code",
   "execution_count": 4,
   "metadata": {},
   "outputs": [
    {
     "ename": "KeyboardInterrupt",
     "evalue": "",
     "output_type": "error",
     "traceback": [
      "\u001b[0;31m---------------------------------------------------------------------------\u001b[0m",
      "\u001b[0;31mKeyboardInterrupt\u001b[0m                         Traceback (most recent call last)",
      "\u001b[0;32m<ipython-input-4-b0dd6d455be7>\u001b[0m in \u001b[0;36m<module>\u001b[0;34m\u001b[0m\n\u001b[1;32m     24\u001b[0m     \u001b[0;31m#And lets dance!!!\u001b[0m\u001b[0;34m\u001b[0m\u001b[0;34m\u001b[0m\u001b[0;34m\u001b[0m\u001b[0m\n\u001b[1;32m     25\u001b[0m     \u001b[0mrb\u001b[0m \u001b[0;34m=\u001b[0m \u001b[0mroombaRB\u001b[0m\u001b[0;34m.\u001b[0m\u001b[0mclean\u001b[0m\u001b[0;34m(\u001b[0m\u001b[0mclean_level\u001b[0m\u001b[0;34m=\u001b[0m\u001b[0;36m0.5\u001b[0m\u001b[0;34m,\u001b[0m \u001b[0mfocus\u001b[0m \u001b[0;34m=\u001b[0m\u001b[0;32mTrue\u001b[0m\u001b[0;34m,\u001b[0m \u001b[0mblink\u001b[0m \u001b[0;34m=\u001b[0m\u001b[0;32mFalse\u001b[0m\u001b[0;34m,\u001b[0m \u001b[0mheatmap\u001b[0m \u001b[0;34m=\u001b[0m \u001b[0;32mFalse\u001b[0m\u001b[0;34m,\u001b[0m \u001b[0mout_steps\u001b[0m\u001b[0;34m=\u001b[0m\u001b[0;36m10000000\u001b[0m\u001b[0;34m,\u001b[0m \u001b[0mfin\u001b[0m\u001b[0;34m=\u001b[0m\u001b[0;32mFalse\u001b[0m\u001b[0;34m)\u001b[0m\u001b[0;34m\u001b[0m\u001b[0;34m\u001b[0m\u001b[0m\n\u001b[0;32m---> 26\u001b[0;31m     \u001b[0mww\u001b[0m \u001b[0;34m=\u001b[0m \u001b[0mroombaWW\u001b[0m\u001b[0;34m.\u001b[0m\u001b[0mclean\u001b[0m\u001b[0;34m(\u001b[0m\u001b[0mclean_level\u001b[0m\u001b[0;34m=\u001b[0m\u001b[0;36m0.5\u001b[0m\u001b[0;34m,\u001b[0m \u001b[0mfocus\u001b[0m \u001b[0;34m=\u001b[0m\u001b[0;32mTrue\u001b[0m\u001b[0;34m,\u001b[0m \u001b[0mblink\u001b[0m \u001b[0;34m=\u001b[0m\u001b[0;32mFalse\u001b[0m\u001b[0;34m,\u001b[0m \u001b[0mheatmap\u001b[0m \u001b[0;34m=\u001b[0m \u001b[0;32mFalse\u001b[0m\u001b[0;34m,\u001b[0m \u001b[0mout_steps\u001b[0m\u001b[0;34m=\u001b[0m\u001b[0;36m10000000\u001b[0m\u001b[0;34m,\u001b[0m \u001b[0mfin\u001b[0m\u001b[0;34m=\u001b[0m\u001b[0;32mFalse\u001b[0m\u001b[0;34m)\u001b[0m\u001b[0;34m\u001b[0m\u001b[0;34m\u001b[0m\u001b[0m\n\u001b[0m\u001b[1;32m     27\u001b[0m     \u001b[0mmv\u001b[0m \u001b[0;34m=\u001b[0m \u001b[0mroombaMV\u001b[0m\u001b[0;34m.\u001b[0m\u001b[0mclean\u001b[0m\u001b[0;34m(\u001b[0m\u001b[0mclean_level\u001b[0m\u001b[0;34m=\u001b[0m\u001b[0;36m0.5\u001b[0m\u001b[0;34m,\u001b[0m \u001b[0mfocus\u001b[0m \u001b[0;34m=\u001b[0m\u001b[0;32mTrue\u001b[0m\u001b[0;34m,\u001b[0m \u001b[0mblink\u001b[0m \u001b[0;34m=\u001b[0m\u001b[0;32mFalse\u001b[0m\u001b[0;34m,\u001b[0m \u001b[0mheatmap\u001b[0m \u001b[0;34m=\u001b[0m \u001b[0;32mFalse\u001b[0m\u001b[0;34m,\u001b[0m \u001b[0mout_steps\u001b[0m\u001b[0;34m=\u001b[0m\u001b[0;36m10000000\u001b[0m\u001b[0;34m,\u001b[0m \u001b[0mfin\u001b[0m\u001b[0;34m=\u001b[0m\u001b[0;32mFalse\u001b[0m\u001b[0;34m)\u001b[0m\u001b[0;34m\u001b[0m\u001b[0;34m\u001b[0m\u001b[0m\n\u001b[1;32m     28\u001b[0m \u001b[0;34m\u001b[0m\u001b[0m\n",
      "\u001b[0;32m<ipython-input-3-f94f42223783>\u001b[0m in \u001b[0;36mclean\u001b[0;34m(self, clean_level, focus, blink, heatmap, out_steps, fin)\u001b[0m\n\u001b[1;32m    197\u001b[0m   \u001b[0;31m#Our parent function that initiates the cleaning and tells us the final state.\u001b[0m\u001b[0;34m\u001b[0m\u001b[0;34m\u001b[0m\u001b[0;34m\u001b[0m\u001b[0m\n\u001b[1;32m    198\u001b[0m   \u001b[0;32mdef\u001b[0m \u001b[0mclean\u001b[0m\u001b[0;34m(\u001b[0m\u001b[0mself\u001b[0m\u001b[0;34m,\u001b[0m\u001b[0mclean_level\u001b[0m\u001b[0;34m,\u001b[0m \u001b[0mfocus\u001b[0m\u001b[0;34m,\u001b[0m\u001b[0mblink\u001b[0m \u001b[0;34m=\u001b[0m\u001b[0;32mTrue\u001b[0m\u001b[0;34m,\u001b[0m \u001b[0mheatmap\u001b[0m \u001b[0;34m=\u001b[0m \u001b[0;32mTrue\u001b[0m\u001b[0;34m,\u001b[0m \u001b[0mout_steps\u001b[0m\u001b[0;34m=\u001b[0m\u001b[0;36m20\u001b[0m\u001b[0;34m,\u001b[0m \u001b[0mfin\u001b[0m \u001b[0;34m=\u001b[0m \u001b[0;32mTrue\u001b[0m\u001b[0;34m)\u001b[0m\u001b[0;34m:\u001b[0m\u001b[0;34m\u001b[0m\u001b[0;34m\u001b[0m\u001b[0m\n\u001b[0;32m--> 199\u001b[0;31m       \u001b[0mself\u001b[0m\u001b[0;34m.\u001b[0m\u001b[0minitiate_traversal\u001b[0m\u001b[0;34m(\u001b[0m\u001b[0mfocus\u001b[0m \u001b[0;34m=\u001b[0m \u001b[0mfocus\u001b[0m\u001b[0;34m,\u001b[0m \u001b[0mclean_level\u001b[0m \u001b[0;34m=\u001b[0m \u001b[0mclean_level\u001b[0m\u001b[0;34m,\u001b[0m \u001b[0mblink\u001b[0m \u001b[0;34m=\u001b[0m\u001b[0mblink\u001b[0m\u001b[0;34m,\u001b[0m \u001b[0mheatmap\u001b[0m \u001b[0;34m=\u001b[0m \u001b[0mheatmap\u001b[0m\u001b[0;34m,\u001b[0m  \u001b[0mout_steps\u001b[0m\u001b[0;34m=\u001b[0m\u001b[0mout_steps\u001b[0m\u001b[0;34m,\u001b[0m \u001b[0mfin\u001b[0m\u001b[0;34m=\u001b[0m\u001b[0mfin\u001b[0m\u001b[0;34m)\u001b[0m\u001b[0;34m\u001b[0m\u001b[0;34m\u001b[0m\u001b[0m\n\u001b[0m\u001b[1;32m    200\u001b[0m       \u001b[0;32mif\u001b[0m \u001b[0mfin\u001b[0m\u001b[0;34m:\u001b[0m\u001b[0;34m\u001b[0m\u001b[0;34m\u001b[0m\u001b[0m\n\u001b[1;32m    201\u001b[0m           \u001b[0mprint\u001b[0m\u001b[0;34m(\u001b[0m\u001b[0;34m\"FINAL STATE OF THE HOUSE\"\u001b[0m\u001b[0;34m)\u001b[0m\u001b[0;34m\u001b[0m\u001b[0;34m\u001b[0m\u001b[0m\n",
      "\u001b[0;32m<ipython-input-3-f94f42223783>\u001b[0m in \u001b[0;36minitiate_traversal\u001b[0;34m(self, focus, fin, clean_level, blink, heatmap, out_steps)\u001b[0m\n\u001b[1;32m    138\u001b[0m       \u001b[0mself\u001b[0m\u001b[0;34m.\u001b[0m\u001b[0mhouse\u001b[0m\u001b[0;34m.\u001b[0m\u001b[0mhouse\u001b[0m\u001b[0;34m[\u001b[0m\u001b[0mself\u001b[0m\u001b[0;34m.\u001b[0m\u001b[0mstart\u001b[0m\u001b[0;34m[\u001b[0m\u001b[0;36m0\u001b[0m\u001b[0;34m]\u001b[0m\u001b[0;34m]\u001b[0m\u001b[0;34m[\u001b[0m\u001b[0mself\u001b[0m\u001b[0;34m.\u001b[0m\u001b[0mstart\u001b[0m\u001b[0;34m[\u001b[0m\u001b[0;36m1\u001b[0m\u001b[0;34m]\u001b[0m\u001b[0;34m]\u001b[0m\u001b[0;34m.\u001b[0m\u001b[0mbot\u001b[0m \u001b[0;34m=\u001b[0m \u001b[0;32mTrue\u001b[0m\u001b[0;34m\u001b[0m\u001b[0;34m\u001b[0m\u001b[0m\n\u001b[1;32m    139\u001b[0m       \u001b[0mself\u001b[0m\u001b[0;34m.\u001b[0m\u001b[0mhouse\u001b[0m\u001b[0;34m.\u001b[0m\u001b[0mhouse\u001b[0m\u001b[0;34m[\u001b[0m\u001b[0mself\u001b[0m\u001b[0;34m.\u001b[0m\u001b[0mstart\u001b[0m\u001b[0;34m[\u001b[0m\u001b[0;36m0\u001b[0m\u001b[0;34m]\u001b[0m\u001b[0;34m]\u001b[0m\u001b[0;34m[\u001b[0m\u001b[0mself\u001b[0m\u001b[0;34m.\u001b[0m\u001b[0mstart\u001b[0m\u001b[0;34m[\u001b[0m\u001b[0;36m1\u001b[0m\u001b[0;34m]\u001b[0m\u001b[0;34m]\u001b[0m\u001b[0;34m.\u001b[0m\u001b[0mvisit\u001b[0m \u001b[0;34m+=\u001b[0m\u001b[0;36m1\u001b[0m\u001b[0;34m\u001b[0m\u001b[0;34m\u001b[0m\u001b[0m\n\u001b[0;32m--> 140\u001b[0;31m       \u001b[0mnext_data\u001b[0m \u001b[0;34m=\u001b[0m \u001b[0mself\u001b[0m\u001b[0;34m.\u001b[0m\u001b[0mpossible_directions\u001b[0m\u001b[0;34m(\u001b[0m\u001b[0mbot_tile\u001b[0m\u001b[0;34m.\u001b[0m\u001b[0mposition\u001b[0m\u001b[0;34m)\u001b[0m\u001b[0;34m\u001b[0m\u001b[0;34m\u001b[0m\u001b[0m\n\u001b[0m\u001b[1;32m    141\u001b[0m       \u001b[0mpossible_directions\u001b[0m \u001b[0;34m=\u001b[0m \u001b[0mnext_data\u001b[0m\u001b[0;34m[\u001b[0m\u001b[0;36m0\u001b[0m\u001b[0;34m]\u001b[0m\u001b[0;34m\u001b[0m\u001b[0;34m\u001b[0m\u001b[0m\n\u001b[1;32m    142\u001b[0m \u001b[0;34m\u001b[0m\u001b[0m\n",
      "\u001b[0;32m<ipython-input-3-f94f42223783>\u001b[0m in \u001b[0;36mpossible_directions\u001b[0;34m(self, bot_position)\u001b[0m\n\u001b[1;32m     48\u001b[0m         \u001b[0;31m#If the tiles are withn the span are walls, we will skip them, otherwise we can move to them\u001b[0m\u001b[0;34m\u001b[0m\u001b[0;34m\u001b[0m\u001b[0;34m\u001b[0m\u001b[0m\n\u001b[1;32m     49\u001b[0m         \u001b[0;31m#We move at random whether the floor is clean or not but focus will force us to sty if a tile is too dirty\u001b[0m\u001b[0;34m\u001b[0m\u001b[0;34m\u001b[0m\u001b[0;34m\u001b[0m\u001b[0m\n\u001b[0;32m---> 50\u001b[0;31m         \u001b[0mnext_tile_cleanliness\u001b[0m \u001b[0;34m=\u001b[0m \u001b[0mself\u001b[0m\u001b[0;34m.\u001b[0m\u001b[0mhouse\u001b[0m\u001b[0;34m.\u001b[0m\u001b[0mhouse\u001b[0m\u001b[0;34m[\u001b[0m\u001b[0mnext_row\u001b[0m\u001b[0;34m]\u001b[0m\u001b[0;34m[\u001b[0m\u001b[0mnext_col\u001b[0m\u001b[0;34m]\u001b[0m\u001b[0;34m.\u001b[0m\u001b[0mcleanliness\u001b[0m\u001b[0;34m\u001b[0m\u001b[0;34m\u001b[0m\u001b[0m\n\u001b[0m\u001b[1;32m     51\u001b[0m \u001b[0;34m\u001b[0m\u001b[0m\n\u001b[1;32m     52\u001b[0m         \u001b[0;32mif\u001b[0m \u001b[0mnext_tile_cleanliness\u001b[0m \u001b[0;32mis\u001b[0m \u001b[0;32mnot\u001b[0m \u001b[0;34m\"W\"\u001b[0m\u001b[0;34m:\u001b[0m\u001b[0;34m\u001b[0m\u001b[0;34m\u001b[0m\u001b[0m\n",
      "\u001b[0;31mKeyboardInterrupt\u001b[0m: "
     ]
    }
   ],
   "source": [
    "random_bounce = []\n",
    "wall_walk = []\n",
    "minimum_visit = []\n",
    "\n",
    "for i in range(1000):\n",
    "    #Each house will have Its own instance since this is modified during cleaning.\n",
    "    copy1 =  house_c(obstacles = 5, mess = \"Random\", dimensions  =(10, 10))\n",
    "    copy2 =  house_c(obstacles = 5, mess = \"Random\", dimensions  =(10, 10))\n",
    "    copy3 =  house_c(obstacles = 5, mess = \"Random\", dimensions  =(10, 10))\n",
    "    \n",
    "    #Spawn a house\n",
    "    copy1.spawn_house()\n",
    "    copy2.spawn_house()\n",
    "    copy3.spawn_house()\n",
    "    \n",
    "    #Initiate the roombas\n",
    "    roombaRB = roomba(house = copy1, delay = 1, start = (0,0),wall_walking =False, \n",
    "                 random_bounce = True, minimum_visits = True)\n",
    "    roombaWW = roomba(house = copy2, delay = 1, start = (0,0),wall_walking =True, \n",
    "                 random_bounce = False, minimum_visits = False)\n",
    "    roombaMV = roomba(house = copy3, delay = 1, start = (0,0),wall_walking =False, \n",
    "                 random_bounce = False, minimum_visits = True)\n",
    "    \n",
    "    #And lets dance!!!\n",
    "    rb = roombaRB.clean(clean_level=0.5, focus =True, blink =False, heatmap = False, out_steps=10000000, fin=False)\n",
    "    ww = roombaWW.clean(clean_level=0.5, focus =True, blink =False, heatmap = False, out_steps=10000000, fin=False)\n",
    "    mv = roombaMV.clean(clean_level=0.5, focus =True, blink =False, heatmap = False, out_steps=10000000, fin=False)\n",
    "    \n",
    "    random_bounce.append(rb)\n",
    "    wall_walk.append(ww)\n",
    "    minimum_visit.append(mv)\n"
   ]
  },
  {
   "cell_type": "code",
   "execution_count": null,
   "metadata": {},
   "outputs": [],
   "source": [
    "import numpy as np, scipy.stats as stats\n",
    "import seaborn as sns\n",
    "\n",
    "def mean_confidence_interval(data, confidence=0.95):\n",
    "    return stats.norm.interval(confidence, loc=np.mean(data), scale=np.std(data))\n",
    "\n",
    "confints_rb = mean_confidence_interval(np.array(random_bounce))\n",
    "confints_ww = mean_confidence_interval(wall_walk)\n",
    "confints_mv = mean_confidence_interval(minimum_visit)\n",
    "\n",
    "sns.set_style(\"white\")\n",
    "\n",
    "kwargs = dict(hist_kws={'alpha':.6}, kde_kws={'linewidth':2})\n",
    "\n",
    "fig = plt.figure()\n",
    "fig.set_size_inches(10, 10)\n",
    "ax1 = fig.add_subplot(311)\n",
    "ax1.axvline(x=confints_ww[0], color = \"r\")\n",
    "ax1.axvline(x=confints_ww[1], color = \"r\")\n",
    "sns.distplot(wall_walk, color=\"dodgerblue\", label=\"Wall Walk\", **kwargs)\n",
    "ax1.set_title(f\"Wall Walk, 95% Confidence interval: {(confints_ww[0], confints_ww[1])}\")\n",
    "ax2 = fig.add_subplot(312)\n",
    "ax2.axvline(x=confints_mv[0], color = \"g\")\n",
    "ax2.axvline(x=confints_mv[1], color = \"g\")\n",
    "sns.distplot(minimum_visit, color=\"deeppink\", label=\"Minimum Visits\", **kwargs)\n",
    "ax2.set_title(f\"Minimum Visits, 95% Confidence interval: {(confints_mv[0], confints_mv[1])}\")\n",
    "\n",
    "ax3 = fig.add_subplot(313)\n",
    "ax3.axvline(x=confints_rb[0], color = \"b\")\n",
    "ax3.axvline(x=confints_rb[1], color = \"b\")\n",
    "sns.distplot(random_bounce, color=\"orange\", label=\"Random Bounce\", **kwargs)\n",
    "ax3.set_title(f\"Random Bounce, 95% Confidence interval: {(confints_rb[0], confints_rb[1])}\")\n",
    "\n",
    "plt.show()"
   ]
  },
  {
   "cell_type": "markdown",
   "metadata": {},
   "source": [
    "For our original simulations, these are the histograms"
   ]
  },
  {
   "cell_type": "code",
   "execution_count": null,
   "metadata": {},
   "outputs": [],
   "source": [
    "rb = []\n",
    "ww_rb = []\n",
    "mv_rb_ww = []\n",
    "\n",
    "for i in range(1000):\n",
    "    #Each house will have Its own instance since this is modified during cleaning.\n",
    "    copy1 =  house_c(obstacles = 5, mess = \"Random\", dimensions  =(10, 10))\n",
    "    copy2 =  house_c(obstacles = 5, mess = \"Random\", dimensions  =(10, 10))\n",
    "    copy3 =  house_c(obstacles = 5, mess = \"Random\", dimensions  =(10, 10))\n",
    "    \n",
    "    #Spawn a house\n",
    "    copy1.spawn_house()\n",
    "    copy2.spawn_house()\n",
    "    copy3.spawn_house()\n",
    "    \n",
    "    #Initiate the roombas\n",
    "    roombaRB = roomba(house = copy1, delay = 1, start = (0,0),wall_walking =False, \n",
    "                 random_bounce = True, minimum_visits = False)\n",
    "    roombaWWRB = roomba(house = copy2, delay = 1, start = (0,0),wall_walking =True, \n",
    "                 random_bounce = True, minimum_visits = False)\n",
    "    roombaMVRBWW = roomba(house = copy3, delay = 1, start = (0,0),wall_walking =True, \n",
    "                 random_bounce = True, minimum_visits = True)\n",
    "    \n",
    "    #And lets dance!!!\n",
    "    rbi = roombaRB.clean(clean_level=0.5, focus =True, blink =False, heatmap = False, out_steps=10000000, fin=False)\n",
    "    ww_rbi = roombaWWRB.clean(clean_level=0.5, focus =True, blink =False, heatmap = False, out_steps=10000000, fin=False)\n",
    "    mv_rb_wwi = roombaMVRBWW.clean(clean_level=0.5, focus =True, blink =False, heatmap = False, out_steps=10000000, fin=False)\n",
    "    \n",
    "    rb.append(rbi)\n",
    "    ww_rb.append(ww_rbi)\n",
    "    mv_rb_ww.append(mv_rb_wwi)\n"
   ]
  },
  {
   "cell_type": "code",
   "execution_count": null,
   "metadata": {},
   "outputs": [],
   "source": [
    "confints_rb = mean_confidence_interval(np.array(rb))\n",
    "confints_ww = mean_confidence_interval(ww_rb)\n",
    "confints_mv = mean_confidence_interval(mv_rb_ww)\n",
    "\n",
    "sns.set_style(\"white\")\n",
    "\n",
    "kwargs = dict(hist_kws={'alpha':.6}, kde_kws={'linewidth':2})\n",
    "\n",
    "fig = plt.figure()\n",
    "fig.set_size_inches(10, 10)\n",
    "ax1 = fig.add_subplot(311)\n",
    "ax1.axvline(x=confints_ww[0], color = \"r\")\n",
    "ax1.axvline(x=confints_ww[1], color = \"r\")\n",
    "sns.distplot(ww_rb, color=\"dodgerblue\", label=\"Wall Walk\", **kwargs)\n",
    "ax1.set_title(f\"Wall Walk + Random Bounce, 95% Confidence interval: {(confints_ww[0], confints_ww[1])}\")\n",
    "ax2 = fig.add_subplot(312)\n",
    "ax2.axvline(x=confints_mv[0], color = \"g\")\n",
    "ax2.axvline(x=confints_mv[1], color = \"g\")\n",
    "sns.distplot(mv_rb_ww, color=\"deeppink\", label=\"Minimum Visits\", **kwargs)\n",
    "ax2.set_title(f\"Minimum Visits + Random_Bounce + Wall Walk, 95% Confidence interval:{(confints_mv[0], confints_mv[1])}\")\n",
    "\n",
    "ax3 = fig.add_subplot(313)\n",
    "ax3.axvline(x=confints_rb[0], color = \"b\")\n",
    "ax3.axvline(x=confints_rb[1], color = \"b\")\n",
    "sns.distplot(rb, color=\"orange\", label=\"Random Bounce\", **kwargs)\n",
    "ax3.set_title(f\"Random Bounce, 95% Confidence interval: {(confints_rb[0], confints_rb[1])}\")\n",
    "\n",
    "plt.show()"
   ]
  },
  {
   "cell_type": "markdown",
   "metadata": {
    "colab_type": "text",
    "id": "RZtPk0h2IQ-Y"
   },
   "source": [
    "Demonstrations.\n",
    "\n",
    "1. No minimized visits, no wall walking, just random bounce"
   ]
  },
  {
   "cell_type": "code",
   "execution_count": null,
   "metadata": {
    "colab": {},
    "colab_type": "code",
    "id": "7TqsI2LOb8r_",
    "scrolled": true
   },
   "outputs": [],
   "source": [
    "house1 = house_c(obstacles = 5, mess = \"Random\", dimensions  =(10, 10)) \n",
    "house1.spawn_house()\n",
    "\n",
    "\n",
    "roomba1 = roomba(house = house1, delay = 1, start = (0,0),wall_walking =False, \n",
    "                 random_bounce = True, minimum_visits = False)\n",
    "roomba1.clean(clean_level=0, focus =True, blink =True, heatmap = True, out_steps=1)"
   ]
  },
  {
   "cell_type": "code",
   "execution_count": null,
   "metadata": {
    "colab": {
     "base_uri": "https://localhost:8080/",
     "height": 1099
    },
    "colab_type": "code",
    "id": "SNZ4eHsI83gj",
    "outputId": "bd495355-04b3-4025-943e-57a329e97b53",
    "scrolled": true
   },
   "outputs": [],
   "source": [
    "house1 = house_c(obstacles = 5, mess = \"Random\", dimensions  =(10, 10)) \n",
    "house1.spawn_house()\n",
    "\n",
    "\n",
    "roomba1 = roomba(house = house1, delay = 1, start = (0,0),wall_walking =True, \n",
    "                 random_bounce = True, minimum_visits = False)\n",
    "roomba1.clean(clean_level=0, focus =True, blink =True, heatmap = True, out_steps=1)"
   ]
  },
  {
   "cell_type": "code",
   "execution_count": null,
   "metadata": {
    "colab": {
     "base_uri": "https://localhost:8080/",
     "height": 1099
    },
    "colab_type": "code",
    "id": "hPtXlmglVwLJ",
    "outputId": "9b8bf0c9-51f9-4a32-83e9-84553e89b407"
   },
   "outputs": [],
   "source": [
    "house1 = house_c(obstacles = 5, mess = \"Random\", dimensions  =(10, 10)) \n",
    "house1.spawn_house()\n",
    "\n",
    "\n",
    "roomba1 = roomba(house = house1, delay = 1, start = (0,0),wall_walking =True, \n",
    "                 random_bounce = True, minimum_visits = True)\n",
    "roomba1.clean(clean_level=0, focus =True, blink =True, heatmap = True, out_steps=1)"
   ]
  },
  {
   "cell_type": "markdown",
   "metadata": {
    "colab_type": "text",
    "id": "1XfBC5HdfYT7"
   },
   "source": [
    "For coverage"
   ]
  },
  {
   "cell_type": "markdown",
   "metadata": {
    "colab_type": "text",
    "id": "22PKrbEHgUBT"
   },
   "source": [
    "**Only Random Bounce**"
   ]
  },
  {
   "cell_type": "code",
   "execution_count": null,
   "metadata": {
    "colab": {
     "base_uri": "https://localhost:8080/",
     "height": 3237
    },
    "colab_type": "code",
    "id": "8sP9UBdXVv_x",
    "outputId": "6de224d0-b423-4b11-a694-51868d8d4199"
   },
   "outputs": [],
   "source": [
    "house1 = house_c(obstacles = 20, mess = \"Random\", dimensions  =(50, 50)) \n",
    "house1.spawn_house()\n",
    "\n",
    "\n",
    "roomba1 = roomba(house = house1, delay = 1, start = (0,0),wall_walking =False, \n",
    "                 random_bounce = False, minimum_visits = False)\n",
    "roomba1.clean(clean_level=0, focus =True, blink =False, heatmap = True, out_steps=1000000000)"
   ]
  },
  {
   "cell_type": "markdown",
   "metadata": {
    "colab_type": "text",
    "id": "0YWlm189gbXG"
   },
   "source": [
    "**Random Bounce +Wall Walk**"
   ]
  },
  {
   "cell_type": "code",
   "execution_count": null,
   "metadata": {
    "colab": {},
    "colab_type": "code",
    "id": "CrrHDjcRfbsz",
    "scrolled": true
   },
   "outputs": [],
   "source": [
    "house1 = house_c(obstacles = 20, mess = \"Random\", dimensions  =(50, 50)) \n",
    "house1.spawn_house()\n",
    "\n",
    "\n",
    "roomba1 = roomba(house = house1, delay = 1, start = (0,0),wall_walking =True, \n",
    "                 random_bounce = True, minimum_visits = False)\n",
    "roomba1.clean(clean_level=0, focus =True, blink =False, heatmap = True, out_steps=10000000)"
   ]
  },
  {
   "cell_type": "markdown",
   "metadata": {
    "colab_type": "text",
    "id": "bCmyjqrBgfn6"
   },
   "source": [
    "**Random Bounce +Wall Walk + Minimum Visits**"
   ]
  },
  {
   "cell_type": "code",
   "execution_count": null,
   "metadata": {
    "colab": {},
    "colab_type": "code",
    "id": "msWvKLevfe33"
   },
   "outputs": [],
   "source": [
    "house1 = house_c(obstacles = 20, mess = \"Random\", dimensions  =(50, 50)) \n",
    "house1.spawn_house()\n",
    "\n",
    "\n",
    "roomba1 = roomba(house = house1, delay = 1, start = (0,0),wall_walking =True, \n",
    "                 random_bounce = True, minimum_visits = True)\n",
    "roomba1.clean(clean_level=0, focus =True, blink =False, heatmap = True, out_steps=10000000)"
   ]
  }
 ],
 "metadata": {
  "colab": {
   "name": "FinalProject CS166",
   "provenance": [],
   "version": "0.3.2"
  },
  "kernelspec": {
   "display_name": "Python 3",
   "language": "python",
   "name": "python3"
  },
  "language_info": {
   "codemirror_mode": {
    "name": "ipython",
    "version": 3
   },
   "file_extension": ".py",
   "mimetype": "text/x-python",
   "name": "python",
   "nbconvert_exporter": "python",
   "pygments_lexer": "ipython3",
   "version": "3.7.1"
  }
 },
 "nbformat": 4,
 "nbformat_minor": 1
}
